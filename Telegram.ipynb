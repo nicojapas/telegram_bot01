{
 "cells": [
  {
   "cell_type": "code",
   "execution_count": null,
   "id": "referenced-galaxy",
   "metadata": {},
   "outputs": [],
   "source": [
    "from telethon import TelegramClient"
   ]
  },
  {
   "cell_type": "code",
   "execution_count": null,
   "id": "duplicate-dividend",
   "metadata": {},
   "outputs": [],
   "source": [
    "with open('secrets.txt', 'r') as f:\n",
    "    ids = f.readlines()\n",
    "f.close()\n",
    "\n",
    "api_id = ids[0].strip()\n",
    "api_hash = ids[1].strip()\n",
    "\n",
    "client = TelegramClient('anon', api_id, api_hash)"
   ]
  },
  {
   "cell_type": "code",
   "execution_count": null,
   "id": "located-writing",
   "metadata": {},
   "outputs": [],
   "source": [
    "await client.connect()"
   ]
  },
  {
   "cell_type": "code",
   "execution_count": null,
   "id": "following-induction",
   "metadata": {},
   "outputs": [],
   "source": [
    "async def main():\n",
    "    # Getting information about yourself\n",
    "    me = await client.get_me()\n",
    "\n",
    "    # \"me\" is a user object. You can pretty-print\n",
    "    # any Telegram object with the \"stringify\" method:\n",
    "    print(me.stringify())\n",
    "\n",
    "    # When you print something, you see a representation of it.\n",
    "    # You can access all attributes of Telegram objects with\n",
    "    # the dot operator. For example, to get the username:\n",
    "    username = me.username\n",
    "    print(username)\n",
    "    print(me.phone)\n",
    "\n",
    "    # You can print all the dialogs/conversations that you are part of:\n",
    "#     async for dialog in client.iter_dialogs():\n",
    "#         print(dialog.name, 'has ID', dialog.id)\n",
    "\n",
    "    # You can send messages to yourself...\n",
    "    await client.send_message('me', 'Hello, myself!')\n",
    "    # ...to some chat ID\n",
    "#     await client.send_message(-100123456, 'Hello, group!')\n",
    "    # ...to your contacts\n",
    "#     await client.send_message('+34600123123', 'Hello, friend!')\n",
    "    # ...or even to any username\n",
    "#     await client.send_message('username', 'Testing Telethon!')\n",
    "\n",
    "    # You can, of course, use markdown in your messages:\n",
    "#     message = await client.send_message(\n",
    "#         'me',\n",
    "#         'This message has **bold**, `code`, __italics__ and '\n",
    "#         'a [nice website](https://example.com)!',\n",
    "#         link_preview=False\n",
    "#     )\n",
    "\n",
    "    # Sending a message returns the sent message object, which you can use\n",
    "#     print(message.raw_text)\n",
    "\n",
    "    # You can reply to messages directly if you have a message object\n",
    "#     await message.reply('Cool!')\n",
    "\n",
    "    # Or send files, songs, documents, albums...\n",
    "    # await client.send_file('me', '/home/me/Pictures/holidays.jpg')\n",
    "\n",
    "    # You can print the message history of any chat:\n",
    "#     async for message in client.iter_messages('me'):\n",
    "#         print(message.id, message.text)\n",
    "\n",
    "        # You can download media from messages, too!\n",
    "        # The method will return the path where the file was saved.\n",
    "#         if message.photo:\n",
    "#             path = await message.download_media()\n",
    "#             print('File saved to', path)  # printed after download is done"
   ]
  },
  {
   "cell_type": "code",
   "execution_count": null,
   "id": "technological-street",
   "metadata": {},
   "outputs": [],
   "source": [
    "await main()"
   ]
  },
  {
   "cell_type": "code",
   "execution_count": null,
   "id": "bibliographic-cathedral",
   "metadata": {},
   "outputs": [],
   "source": [
    "await client.log_out()"
   ]
  },
  {
   "cell_type": "code",
   "execution_count": null,
   "id": "recovered-gross",
   "metadata": {},
   "outputs": [],
   "source": [
    "await client.disconnect()"
   ]
  },
  {
   "cell_type": "code",
   "execution_count": null,
   "id": "potential-trout",
   "metadata": {},
   "outputs": [],
   "source": []
  }
 ],
 "metadata": {
  "kernelspec": {
   "display_name": "Python 3",
   "language": "python",
   "name": "python3"
  },
  "language_info": {
   "codemirror_mode": {
    "name": "ipython",
    "version": 3
   },
   "file_extension": ".py",
   "mimetype": "text/x-python",
   "name": "python",
   "nbconvert_exporter": "python",
   "pygments_lexer": "ipython3",
   "version": "3.7.9"
  }
 },
 "nbformat": 4,
 "nbformat_minor": 5
}
